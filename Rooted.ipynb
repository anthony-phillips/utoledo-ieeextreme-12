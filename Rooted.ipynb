{
 "cells": [
  {
   "cell_type": "code",
   "execution_count": 3,
   "metadata": {},
   "outputs": [],
   "source": [
    "import math"
   ]
  },
  {
   "cell_type": "code",
   "execution_count": 4,
   "metadata": {},
   "outputs": [],
   "source": [
    "infix = list('ba')"
   ]
  },
  {
   "cell_type": "code",
   "execution_count": 5,
   "metadata": {},
   "outputs": [],
   "source": [
    "prefix = list('bac')"
   ]
  },
  {
   "cell_type": "code",
   "execution_count": null,
   "metadata": {},
   "outputs": [],
   "source": []
  },
  {
   "cell_type": "code",
   "execution_count": 20,
   "metadata": {},
   "outputs": [],
   "source": [
    "def make_tree(infix, prefix, i):\n",
    "    if len(prefix) == 0:\n",
    "        return None\n",
    "    \n",
    "    if len(infix) == 1:\n",
    "        print(infix)\n",
    "        return Node(infix)\n",
    "    \n",
    "    root = prefix[0]\n",
    "    rootnode = Node(root)\n",
    "    print(root)\n",
    "    \n",
    "    \n",
    "    index = infix.find(root)\n",
    "    \n",
    "    left = infix[0:index]\n",
    "    right = infix[index+1:]\n",
    "    #print('right ' + right)\n",
    "    #print('left ' + left)\n",
    "    \n",
    "    if len(left) > 0:\n",
    "        rootnode.addleft(make_tree(left, prefix[1+i:], i+1))\n",
    "    else:\n",
    "        rootnode.addleft(None)\n",
    "   \n",
    "    if len(right) > 0:\n",
    "        if len(left) == 0:\n",
    "            i -= 1\n",
    "        rootnode.addright(make_tree(right, prefix[2+i:], i+1))\n",
    "    else:\n",
    "        rootnode.addright(None)\n",
    "    \n",
    "    return rootnode"
   ]
  },
  {
   "cell_type": "code",
   "execution_count": 23,
   "metadata": {
    "scrolled": true
   },
   "outputs": [
    {
     "name": "stdout",
     "output_type": "stream",
     "text": [
      "a\n",
      "b\n",
      "d\n",
      "e\n",
      "c\n",
      "f\n",
      "g\n"
     ]
    }
   ],
   "source": [
    "tree = make_tree('dbeafcg', 'abcdefg', 0)"
   ]
  },
  {
   "cell_type": "code",
   "execution_count": 14,
   "metadata": {},
   "outputs": [],
   "source": [
    "class Node:\n",
    "    name = ''\n",
    "    division_val = 0\n",
    "    all_val = 0\n",
    "    parent = None\n",
    "    right = None\n",
    "    left = None\n",
    "\n",
    "    def __init__(self, name):\n",
    "        self.name = name\n",
    "    \n",
    "    def addright(self, node):\n",
    "        self.right = node\n",
    "        \n",
    "    def addleft(self, node):\n",
    "        self.left = node"
   ]
  },
  {
   "cell_type": "code",
   "execution_count": 11,
   "metadata": {},
   "outputs": [],
   "source": [
    "def add_node(tree, new_node):\n",
    "    parent = find_node(tree, new_node.name) \n",
    "\n",
    "    if parent:\n",
    "        new_node.parent = parent\n",
    "        parent.children.add(new_node)\n",
    "        return True\n",
    "\n",
    "    return False"
   ]
  },
  {
   "cell_type": "code",
   "execution_count": 12,
   "metadata": {},
   "outputs": [],
   "source": [
    "def print_tree(tree, sep=''):\n",
    "    node = tree\n",
    "    if node.left != None:\n",
    "        print_tree(tree.left, sep)\n",
    "    if node.right != None:\n",
    "        print_tree(tree.right, sep)\n",
    "    \n",
    "    print(sep + node.name)\n",
    "    "
   ]
  },
  {
   "cell_type": "code",
   "execution_count": 17,
   "metadata": {},
   "outputs": [
    {
     "name": "stdout",
     "output_type": "stream",
     "text": [
      "c\n",
      "a\n"
     ]
    }
   ],
   "source": [
    "print_tree(tree)"
   ]
  },
  {
   "cell_type": "code",
   "execution_count": null,
   "metadata": {},
   "outputs": [],
   "source": []
  }
 ],
 "metadata": {
  "kernelspec": {
   "display_name": "Python 3",
   "language": "python",
   "name": "python3"
  },
  "language_info": {
   "codemirror_mode": {
    "name": "ipython",
    "version": 3
   },
   "file_extension": ".py",
   "mimetype": "text/x-python",
   "name": "python",
   "nbconvert_exporter": "python",
   "pygments_lexer": "ipython3",
   "version": "3.6.5"
  }
 },
 "nbformat": 4,
 "nbformat_minor": 2
}
