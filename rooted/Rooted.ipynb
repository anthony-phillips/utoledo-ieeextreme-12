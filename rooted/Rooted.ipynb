{
 "cells": [
  {
   "cell_type": "code",
   "execution_count": 57,
   "metadata": {},
   "outputs": [],
   "source": [
    "tree_vals = []\n"
   ]
  },
  {
   "cell_type": "code",
   "execution_count": 58,
   "metadata": {},
   "outputs": [],
   "source": [
    "class Node:\n",
    "    name = ''\n",
    "    parent = None\n",
    "    right = None\n",
    "    left = None\n",
    "    layer = None\n",
    "\n",
    "    def __init__(self, name, layer):\n",
    "        self.name = name\n",
    "        self.layer = layer\n",
    "        \n",
    "    def addright(self, node):\n",
    "        self.right = node\n",
    "        \n",
    "    def addleft(self, node):\n",
    "        self.left = node\n"
   ]
  },
  {
   "cell_type": "code",
   "execution_count": 59,
   "metadata": {},
   "outputs": [],
   "source": [
    "def make_tree(infix, prefix, i):\n",
    "    if len(prefix) == 0:\n",
    "        return None\n",
    "    \n",
    "    if len(infix) == 1:\n",
    "        print(infix, i)\n",
    "        tree_vals.append((infix, i))\n",
    "        return Node(infix, i)\n",
    "    \n",
    "    root = prefix[0]\n",
    "    rootnode = Node(root, i)\n",
    "    print(root, i)\n",
    "    tree_vals.append((root, i))\n",
    "    \n",
    "    index = infix.find(root)\n",
    "    \n",
    "    left = infix[0:index]\n",
    "    right = infix[index+1:]\n",
    "    \n",
    "    if len(left) > 0:\n",
    "        rootnode.addleft(make_tree(left, prefix[1+i:], i+1))\n",
    "    else:\n",
    "        rootnode.addleft(None)\n",
    "   \n",
    "    if len(right) > 0:\n",
    "        if len(left) == 0:\n",
    "            i -= 1\n",
    "        rootnode.addright(make_tree(right, prefix[2+i:], i+1))\n",
    "    else:\n",
    "        rootnode.addright(None)\n",
    "    \n",
    "    return rootnode\n"
   ]
  },
  {
   "cell_type": "code",
   "execution_count": 60,
   "metadata": {},
   "outputs": [],
   "source": [
    ""
   ]
  },
  {
   "cell_type": "code",
   "execution_count": 60,
   "metadata": {
    "scrolled": true
   },
   "outputs": [
    {
     "name": "stdout",
     "output_type": "stream",
     "text": [
      "a 0\nb 0\nc 1\nd 1\n"
     ]
    }
   ],
   "source": [
    "tree = make_tree('acbd', 'abcd', 0)"
   ]
  },
  {
   "cell_type": "code",
   "execution_count": 61,
   "metadata": {},
   "outputs": [],
   "source": [
    ""
   ]
  },
  {
   "cell_type": "code",
   "execution_count": 61,
   "metadata": {},
   "outputs": [],
   "source": [
    ""
   ]
  },
  {
   "cell_type": "code",
   "execution_count": 61,
   "metadata": {},
   "outputs": [
    {
     "name": "stdout",
     "output_type": "stream",
     "text": [
      "[('a', 0), ('b', 0), ('c', 1), ('d', 1)]\n"
     ]
    }
   ],
   "source": [
    "print(tree_vals)"
   ]
  },
  {
   "cell_type": "code",
   "execution_count": 62,
   "metadata": {
    "collapsed": false
   },
   "outputs": [
    {
     "name": "stdout",
     "output_type": "stream",
     "text": [
      "  a b\nc d\n"
     ]
    }
   ],
   "source": [
    "max_layer = 0\n",
    "num_in_last_layer = 0\n",
    "for val in tree_vals:\n",
    "    if val[1] > max_layer:\n",
    "        max_layer = val[1]\n",
    "    if val[1] == max_layer:\n",
    "        num_in_last_layer += 1\n",
    "\n",
    "for val in range(max_layer + 1):\n",
    "    output = \"\"\n",
    "    for node in tree_vals:\n",
    "        if node[1] == val:\n",
    "            if len(output) == 0 and val != max_layer:\n",
    "                for _ in range(max_layer+1 - node[1]):\n",
    "                    output += \" \"\n",
    "            output += str(node[0]) + \" \"\n",
    "    print(output[:-1])"
   ]
  },
  {
   "cell_type": "code",
   "execution_count": 63,
   "metadata": {},
   "outputs": [],
   "source": []
  },
  {
   "cell_type": "code",
   "execution_count": 63,
   "metadata": {},
   "outputs": [],
   "source": []
  },
  {
   "cell_type": "code",
   "execution_count": 63,
   "metadata": {},
   "outputs": [],
   "source": []
  },
  {
   "cell_type": "code",
   "execution_count": null,
   "metadata": {},
   "outputs": [],
   "source": []
  }
 ],
 "metadata": {
  "kernelspec": {
   "display_name": "Python 3",
   "language": "python",
   "name": "python3"
  },
  "language_info": {
   "codemirror_mode": {
    "name": "ipython",
    "version": 3
   },
   "file_extension": ".py",
   "mimetype": "text/x-python",
   "name": "python",
   "nbconvert_exporter": "python",
   "pygments_lexer": "ipython3",
   "version": "3.6.5"
  }
 },
 "nbformat": 4,
 "nbformat_minor": 2
}
