{
 "cells": [
  {
   "cell_type": "code",
   "execution_count": 75,
   "metadata": {},
   "outputs": [],
   "source": [
    "tree_vals = []\n"
   ]
  },
  {
   "cell_type": "code",
   "execution_count": 76,
   "metadata": {},
   "outputs": [],
   "source": [
    "class Node:\n",
    "    name = ''\n",
    "    parent = None\n",
    "    right = None\n",
    "    left = None\n",
    "    layer = None\n",
    "\n",
    "    def __init__(self, name, layer):\n",
    "        self.name = name\n",
    "        self.layer = layer\n",
    "        \n",
    "    def addright(self, node):\n",
    "        self.right = node\n",
    "        \n",
    "    def addleft(self, node):\n",
    "        self.left = node\n"
   ]
  },
  {
   "cell_type": "code",
   "execution_count": 77,
   "metadata": {},
   "outputs": [],
   "source": [
    "def make_tree(infix, prefix, i):\n",
    "    if len(infix) == 1:\n",
    "        print(infix, i)\n",
    "        tree_vals.append((infix, i))\n",
    "        return Node(infix, i)\n",
    "    \n",
    "    if len(prefix) == 0:\n",
    "        return None\n",
    "    \n",
    "    root = prefix[0]\n",
    "    rootnode = Node(root, i)\n",
    "    print(root, i)\n",
    "    tree_vals.append((root, i))\n",
    "    \n",
    "    index = infix.find(root)\n",
    "    \n",
    "    left = infix[0:index]\n",
    "    right = infix[index+1:]\n",
    "    \n",
    "    print(\"left \", left)\n",
    "    print(\"right \", right)\n",
    "    \n",
    "    if len(left) > 0:\n",
    "        rootnode.addleft(make_tree(left, prefix[1+i:], i+1))\n",
    "    else:\n",
    "        rootnode.addleft(None)\n",
    "   \n",
    "    if len(right) > 0:\n",
    "        if len(left) == 0:\n",
    "            rootnode.addright(make_tree(right, prefix[1+i:], i+1))\n",
    "        else:\n",
    "            rootnode.addright(make_tree(right, prefix[2+i:], i+1))\n",
    "    else:\n",
    "        rootnode.addright(None)\n",
    "    \n",
    "    return rootnode\n"
   ]
  },
  {
   "cell_type": "code",
   "execution_count": 78,
   "metadata": {},
   "outputs": [],
   "source": [
    ""
   ]
  },
  {
   "cell_type": "code",
   "execution_count": 78,
   "metadata": {
    "scrolled": true
   },
   "outputs": [
    {
     "name": "stdout",
     "output_type": "stream",
     "text": [
      "a 0\nleft  \nright  cbd\nb 1\nleft  c\nright  d\nc 2\nd 2\n"
     ]
    }
   ],
   "source": [
    "tree = make_tree('acbd', \n",
    "                 'abcd', 0)"
   ]
  },
  {
   "cell_type": "code",
   "execution_count": 79,
   "metadata": {},
   "outputs": [],
   "source": [
    ""
   ]
  },
  {
   "cell_type": "code",
   "execution_count": 79,
   "metadata": {},
   "outputs": [],
   "source": [
    ""
   ]
  },
  {
   "cell_type": "code",
   "execution_count": 79,
   "metadata": {},
   "outputs": [
    {
     "name": "stdout",
     "output_type": "stream",
     "text": [
      "[('a', 0), ('b', 1), ('c', 2), ('d', 2)]\n"
     ]
    }
   ],
   "source": [
    "print(tree_vals)"
   ]
  },
  {
   "cell_type": "code",
   "execution_count": null,
   "metadata": {
    "collapsed": false
   },
   "outputs": [
    {
     "name": "stdout",
     "output_type": "stream",
     "text": [
      "a\nc\nb\nd\n[['a'], [' ', 'b'], ['c', 'd'], [' ', ' ', ' ', ' ']]\na \n  b \nc d \n        \n\n\n\n   a\n    b\nc d\n       \n"
     ]
    }
   ],
   "source": [
    "max_layer = 0\n",
    "num_in_last_layer = 0\n",
    "for val in tree_vals:\n",
    "    if val[1] > max_layer:\n",
    "        max_layer = val[1]\n",
    "    if val[1] == max_layer:\n",
    "        num_in_last_layer += 1\n",
    "\n",
    "\n",
    "for val in range(max_layer + 1):\n",
    "    output = \"\"\n",
    "    for node in tree_vals:\n",
    "        if node[1] == val:\n",
    "            if len(output) == 0 and val != max_layer:\n",
    "                for _ in range(max_layer+1 - node[1]):\n",
    "                    output += \" \"\n",
    "            output += str(node[0]) + \" \"\n",
    "    print(output[:-1])\n"
   ]
  },
  {
   "cell_type": "code",
   "execution_count": 99,
   "metadata": {
    "collapsed": false
   },
   "outputs": [
    {
     "name": "stdout",
     "output_type": "stream",
     "text": [
      "a\nc\nb\nd\n[['a'], [' ', 'b'], ['c', 'd'], [' ', ' ', ' ', ' ']]\na \n  b \nc d \n        \n\n\n\n   a\n    b\nc d\n       \n"
     ]
    }
   ],
   "source": [
    "output = \"\"\n",
    "layers = [[] for _ in range(max_layer+2)]\n",
    "\n",
    "\n",
    "def printTree(node, layer):\n",
    "    if node.left:\n",
    "        printTree(node.left, layer+1)\n",
    "    else:\n",
    "        layers[layer+1].append(\" \")\n",
    "        \n",
    "    print(node.name)\n",
    "    layers[layer].append(node.name)\n",
    "    if node.right:\n",
    "        printTree(node.right, layer+1)\n",
    "    else:\n",
    "        layers[layer+1].append(\" \")\n",
    "       \n",
    "        \n",
    "printTree(tree, 0)\n",
    "print(layers)\n",
    "\n",
    "for layer in layers:\n",
    "    for node in layer:\n",
    "        print(node, end=\" \")\n",
    "    print()\n",
    "    \n",
    "print(\"\\n\\n\")\n",
    "\n",
    "for val, layer in enumerate(layers):\n",
    "    output = \"\"\n",
    "    for node in layer:\n",
    "        if len(output) == 0 and val != max_layer:\n",
    "            for _ in range(max_layer+1 - val):\n",
    "                output += \" \"\n",
    "        output += str(node) + \" \"\n",
    "    print(output[:-1])"
   ]
  },
  {
   "cell_type": "code",
   "execution_count": null,
   "metadata": {},
   "outputs": [],
   "source": []
  }
 ],
 "metadata": {
  "kernelspec": {
   "display_name": "Python 3",
   "language": "python",
   "name": "python3"
  },
  "language_info": {
   "codemirror_mode": {
    "name": "ipython",
    "version": 3
   },
   "file_extension": ".py",
   "mimetype": "text/x-python",
   "name": "python",
   "nbconvert_exporter": "python",
   "pygments_lexer": "ipython3",
   "version": "3.6.5"
  }
 },
 "nbformat": 4,
 "nbformat_minor": 2
}
